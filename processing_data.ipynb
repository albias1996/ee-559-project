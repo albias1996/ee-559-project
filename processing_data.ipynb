{
 "cells": [
  {
   "cell_type": "code",
   "execution_count": 13,
   "metadata": {},
   "outputs": [
    {
     "name": "stdout",
     "output_type": "stream",
     "text": [
      "The autoreload extension is already loaded. To reload it, use:\n",
      "  %reload_ext autoreload\n"
     ]
    }
   ],
   "source": [
    "import numpy as np\n",
    "import jsonlines\n",
    "import random\n",
    "import os \n",
    "import pandas as pd\n",
    "import json\n",
    "import torch\n",
    "#from transformers import RobertaTokenizer, BertTokenizer, RobertaForSequenceClassification\n",
    "##import pacakages for training\n",
    "from transformers import AutoTokenizer, AutoModelForSeq2SeqLM\n",
    "from utils import preprocess_text, get_paraphrase_batch, get_paraphrase_dataset\n",
    "\n",
    "%load_ext autoreload\n",
    "%autoreload 2"
   ]
  },
  {
   "cell_type": "markdown",
   "metadata": {},
   "source": [
    "### load the data and first processing steps "
   ]
  },
  {
   "cell_type": "code",
   "execution_count": 2,
   "metadata": {},
   "outputs": [],
   "source": [
    "path_misogyny_dataset = 'online-misogyny-eacl2021/data/final_labels.csv'\n",
    "path_sexism_dataset = '/scratch/izar/havolli/edos/data/edos_labelled_aggregated.csv'\n",
    "\n",
    "#assert path exists \n",
    "assert os.path.exists(path_misogyny_dataset)\n",
    "assert os.path.exists(path_sexism_dataset)"
   ]
  },
  {
   "cell_type": "markdown",
   "metadata": {},
   "source": [
    "#### let's start with the misogyny dataset"
   ]
  },
  {
   "cell_type": "code",
   "execution_count": 3,
   "metadata": {},
   "outputs": [],
   "source": [
    "#load the dataset\n",
    "df = pd.read_csv(path_misogyny_dataset)"
   ]
  },
  {
   "cell_type": "code",
   "execution_count": 4,
   "metadata": {},
   "outputs": [],
   "source": [
    "#preprocess steps \n",
    "df['body'] = df['body'].fillna('')\n",
    "df['body'] = df['body'].astype(str)"
   ]
  },
  {
   "cell_type": "code",
   "execution_count": 5,
   "metadata": {},
   "outputs": [
    {
     "data": {
      "text/html": [
       "<div>\n",
       "<style scoped>\n",
       "    .dataframe tbody tr th:only-of-type {\n",
       "        vertical-align: middle;\n",
       "    }\n",
       "\n",
       "    .dataframe tbody tr th {\n",
       "        vertical-align: top;\n",
       "    }\n",
       "\n",
       "    .dataframe thead th {\n",
       "        text-align: right;\n",
       "    }\n",
       "</style>\n",
       "<table border=\"1\" class=\"dataframe\">\n",
       "  <thead>\n",
       "    <tr style=\"text-align: right;\">\n",
       "      <th></th>\n",
       "      <th>entry_id</th>\n",
       "      <th>text</th>\n",
       "      <th>label</th>\n",
       "      <th>split</th>\n",
       "    </tr>\n",
       "  </thead>\n",
       "  <tbody>\n",
       "    <tr>\n",
       "      <th>0</th>\n",
       "      <td>exoxn7</td>\n",
       "      <td>Do you have the skin of a 80 year old grandma?...</td>\n",
       "      <td>Nonmisogynistic</td>\n",
       "      <td>train</td>\n",
       "    </tr>\n",
       "    <tr>\n",
       "      <th>1</th>\n",
       "      <td>fgb3bdv</td>\n",
       "      <td>This is taking a grain of truth and extrapolat...</td>\n",
       "      <td>Nonmisogynistic</td>\n",
       "      <td>train</td>\n",
       "    </tr>\n",
       "    <tr>\n",
       "      <th>2</th>\n",
       "      <td>fgc6tlu</td>\n",
       "      <td>Honestly my favorite thing about this is that ...</td>\n",
       "      <td>Nonmisogynistic</td>\n",
       "      <td>test</td>\n",
       "    </tr>\n",
       "    <tr>\n",
       "      <th>3</th>\n",
       "      <td>fge6msg</td>\n",
       "      <td>Source? Doesnt sound right to me idk</td>\n",
       "      <td>Nonmisogynistic</td>\n",
       "      <td>test</td>\n",
       "    </tr>\n",
       "    <tr>\n",
       "      <th>4</th>\n",
       "      <td>fgawus5</td>\n",
       "      <td>Damn, I saw a movie in which the old woman bat...</td>\n",
       "      <td>Misogynistic</td>\n",
       "      <td>train</td>\n",
       "    </tr>\n",
       "  </tbody>\n",
       "</table>\n",
       "</div>"
      ],
      "text/plain": [
       "  entry_id                                               text  \\\n",
       "0   exoxn7  Do you have the skin of a 80 year old grandma?...   \n",
       "1  fgb3bdv  This is taking a grain of truth and extrapolat...   \n",
       "2  fgc6tlu  Honestly my favorite thing about this is that ...   \n",
       "3  fge6msg               Source? Doesnt sound right to me idk   \n",
       "4  fgawus5  Damn, I saw a movie in which the old woman bat...   \n",
       "\n",
       "             label  split  \n",
       "0  Nonmisogynistic  train  \n",
       "1  Nonmisogynistic  train  \n",
       "2  Nonmisogynistic   test  \n",
       "3  Nonmisogynistic   test  \n",
       "4     Misogynistic  train  "
      ]
     },
     "execution_count": 5,
     "metadata": {},
     "output_type": "execute_result"
    }
   ],
   "source": [
    "#filtered columns\n",
    "filtered_df = df[['entry_id', 'body', 'level_1', 'split']]\n",
    "filtered_df.columns = ['entry_id', 'text', 'label', 'split']\n",
    "\n",
    "filtered_df.head()"
   ]
  },
  {
   "cell_type": "code",
   "execution_count": 6,
   "metadata": {},
   "outputs": [],
   "source": [
    "train_data = filtered_df.to_json(orient='records', lines=True)\n",
    "\n",
    "# Define the file path where you want to save the JSON data\n",
    "path_json = '/scratch/izar/havolli/train_data.jsonl'\n",
    "\n",
    "# Open a file at the specified path in write mode ('w')\n",
    "with open(path_json, 'w') as file:\n",
    "    file.write(train_data)"
   ]
  },
  {
   "cell_type": "code",
   "execution_count": 7,
   "metadata": {},
   "outputs": [
    {
     "data": {
      "text/html": [
       "<div>\n",
       "<style scoped>\n",
       "    .dataframe tbody tr th:only-of-type {\n",
       "        vertical-align: middle;\n",
       "    }\n",
       "\n",
       "    .dataframe tbody tr th {\n",
       "        vertical-align: top;\n",
       "    }\n",
       "\n",
       "    .dataframe thead th {\n",
       "        text-align: right;\n",
       "    }\n",
       "</style>\n",
       "<table border=\"1\" class=\"dataframe\">\n",
       "  <thead>\n",
       "    <tr style=\"text-align: right;\">\n",
       "      <th></th>\n",
       "      <th>entry_id</th>\n",
       "      <th>text</th>\n",
       "      <th>label</th>\n",
       "      <th>split</th>\n",
       "    </tr>\n",
       "  </thead>\n",
       "  <tbody>\n",
       "    <tr>\n",
       "      <th>4</th>\n",
       "      <td>fgawus5</td>\n",
       "      <td>Damn, I saw a movie in which the old woman bat...</td>\n",
       "      <td>Misogynistic</td>\n",
       "      <td>train</td>\n",
       "    </tr>\n",
       "    <tr>\n",
       "      <th>58</th>\n",
       "      <td>fgdhmbf</td>\n",
       "      <td>Okay but even if this wasn't a stupid hyperbol...</td>\n",
       "      <td>Misogynistic</td>\n",
       "      <td>train</td>\n",
       "    </tr>\n",
       "    <tr>\n",
       "      <th>59</th>\n",
       "      <td>fgdhmbf</td>\n",
       "      <td>Okay but even if this wasn't a stupid hyperbol...</td>\n",
       "      <td>Misogynistic</td>\n",
       "      <td>train</td>\n",
       "    </tr>\n",
       "    <tr>\n",
       "      <th>95</th>\n",
       "      <td>fgmifk2</td>\n",
       "      <td>&gt; The problem is that they removed the urinals...</td>\n",
       "      <td>Misogynistic</td>\n",
       "      <td>train</td>\n",
       "    </tr>\n",
       "    <tr>\n",
       "      <th>96</th>\n",
       "      <td>fgmx3lv</td>\n",
       "      <td>But using the urinals in front of girls that a...</td>\n",
       "      <td>Misogynistic</td>\n",
       "      <td>train</td>\n",
       "    </tr>\n",
       "  </tbody>\n",
       "</table>\n",
       "</div>"
      ],
      "text/plain": [
       "   entry_id                                               text         label  \\\n",
       "4   fgawus5  Damn, I saw a movie in which the old woman bat...  Misogynistic   \n",
       "58  fgdhmbf  Okay but even if this wasn't a stupid hyperbol...  Misogynistic   \n",
       "59  fgdhmbf  Okay but even if this wasn't a stupid hyperbol...  Misogynistic   \n",
       "95  fgmifk2  > The problem is that they removed the urinals...  Misogynistic   \n",
       "96  fgmx3lv  But using the urinals in front of girls that a...  Misogynistic   \n",
       "\n",
       "    split  \n",
       "4   train  \n",
       "58  train  \n",
       "59  train  \n",
       "95  train  \n",
       "96  train  "
      ]
     },
     "execution_count": 7,
     "metadata": {},
     "output_type": "execute_result"
    }
   ],
   "source": [
    "misogynistic_df = filtered_df[filtered_df['label'] == 'Misogynistic']\n",
    "non_misogynistic_df = filtered_df[filtered_df['label'] == 'Nonmisogynistic']\n",
    "\n",
    "misogynistic_df.head()"
   ]
  },
  {
   "cell_type": "code",
   "execution_count": 19,
   "metadata": {},
   "outputs": [
    {
     "data": {
      "text/plain": [
       "(699, 4)"
      ]
     },
     "execution_count": 19,
     "metadata": {},
     "output_type": "execute_result"
    }
   ],
   "source": [
    "misogynistic_df.shape"
   ]
  },
  {
   "cell_type": "code",
   "execution_count": 8,
   "metadata": {},
   "outputs": [
    {
     "data": {
      "text/html": [
       "<div>\n",
       "<style scoped>\n",
       "    .dataframe tbody tr th:only-of-type {\n",
       "        vertical-align: middle;\n",
       "    }\n",
       "\n",
       "    .dataframe tbody tr th {\n",
       "        vertical-align: top;\n",
       "    }\n",
       "\n",
       "    .dataframe thead th {\n",
       "        text-align: right;\n",
       "    }\n",
       "</style>\n",
       "<table border=\"1\" class=\"dataframe\">\n",
       "  <thead>\n",
       "    <tr style=\"text-align: right;\">\n",
       "      <th></th>\n",
       "      <th>entry_id</th>\n",
       "      <th>text</th>\n",
       "      <th>label</th>\n",
       "      <th>split</th>\n",
       "    </tr>\n",
       "  </thead>\n",
       "  <tbody>\n",
       "    <tr>\n",
       "      <th>0</th>\n",
       "      <td>exoxn7</td>\n",
       "      <td>Do you have the skin of a 80 year old grandma?...</td>\n",
       "      <td>Nonmisogynistic</td>\n",
       "      <td>train</td>\n",
       "    </tr>\n",
       "    <tr>\n",
       "      <th>1</th>\n",
       "      <td>fgb3bdv</td>\n",
       "      <td>This is taking a grain of truth and extrapolat...</td>\n",
       "      <td>Nonmisogynistic</td>\n",
       "      <td>train</td>\n",
       "    </tr>\n",
       "    <tr>\n",
       "      <th>2</th>\n",
       "      <td>fgc6tlu</td>\n",
       "      <td>Honestly my favorite thing about this is that ...</td>\n",
       "      <td>Nonmisogynistic</td>\n",
       "      <td>test</td>\n",
       "    </tr>\n",
       "    <tr>\n",
       "      <th>3</th>\n",
       "      <td>fge6msg</td>\n",
       "      <td>Source? Doesnt sound right to me idk</td>\n",
       "      <td>Nonmisogynistic</td>\n",
       "      <td>test</td>\n",
       "    </tr>\n",
       "    <tr>\n",
       "      <th>5</th>\n",
       "      <td>fgctirr</td>\n",
       "      <td>It's a question of the sales pitch involved.\\r...</td>\n",
       "      <td>Nonmisogynistic</td>\n",
       "      <td>train</td>\n",
       "    </tr>\n",
       "  </tbody>\n",
       "</table>\n",
       "</div>"
      ],
      "text/plain": [
       "  entry_id                                               text  \\\n",
       "0   exoxn7  Do you have the skin of a 80 year old grandma?...   \n",
       "1  fgb3bdv  This is taking a grain of truth and extrapolat...   \n",
       "2  fgc6tlu  Honestly my favorite thing about this is that ...   \n",
       "3  fge6msg               Source? Doesnt sound right to me idk   \n",
       "5  fgctirr  It's a question of the sales pitch involved.\\r...   \n",
       "\n",
       "             label  split  \n",
       "0  Nonmisogynistic  train  \n",
       "1  Nonmisogynistic  train  \n",
       "2  Nonmisogynistic   test  \n",
       "3  Nonmisogynistic   test  \n",
       "5  Nonmisogynistic  train  "
      ]
     },
     "execution_count": 8,
     "metadata": {},
     "output_type": "execute_result"
    }
   ],
   "source": [
    "non_misogynistic_df.head()"
   ]
  },
  {
   "cell_type": "code",
   "execution_count": 9,
   "metadata": {},
   "outputs": [],
   "source": [
    "##save the data as json files \n",
    "misogynistic_data = misogynistic_df.to_json(orient='records', lines=True)\n",
    "non_misogynistic_data = non_misogynistic_df.to_json(orient='records', lines=True)\n",
    "\n",
    "# Define the file path where you want to save the JSON data\n",
    "miso_json = '/scratch/izar/havolli/misogynistic_data.jsonl'\n",
    "non_miso_json = '/scratch/izar/havolli/non_misogynistic_data.jsonl'\n",
    "\n",
    "# Open a file at the specified path in write mode ('w')\n",
    "with open(miso_json, 'w') as file:\n",
    "    file.write(misogynistic_data)\n",
    "\n",
    "with open(non_miso_json, 'w') as file:\n",
    "    file.write(non_misogynistic_data)"
   ]
  },
  {
   "cell_type": "code",
   "execution_count": 10,
   "metadata": {},
   "outputs": [
    {
     "name": "stdout",
     "output_type": "stream",
     "text": [
      "cuda:0\n"
     ]
    }
   ],
   "source": [
    "device = torch.device(\"cuda:0\" if torch.cuda.is_available() else \"cpu\")\n",
    "print(device)"
   ]
  },
  {
   "cell_type": "code",
   "execution_count": 11,
   "metadata": {},
   "outputs": [
    {
     "name": "stderr",
     "output_type": "stream",
     "text": [
      "/home/havolli/venvs/modern_nlp/lib/python3.10/site-packages/torch/_utils.py:831: UserWarning: TypedStorage is deprecated. It will be removed in the future and UntypedStorage will be the only storage class. This should only matter to you if you are using storages directly.  To access UntypedStorage directly, use tensor.untyped_storage() instead of tensor.storage()\n",
      "  return self.fget.__get__(instance, owner)()\n"
     ]
    }
   ],
   "source": [
    "# get the given pretrained paraphrase model and the corresponding tokenizer (https://huggingface.co/humarin/chatgpt_paraphraser_on_T5_base)\n",
    "paraphrase_tokenizer = AutoTokenizer.from_pretrained(\"humarin/chatgpt_paraphraser_on_T5_base\")\n",
    "paraphrase_model = AutoModelForSeq2SeqLM.from_pretrained(\"humarin/chatgpt_paraphraser_on_T5_base\").to(device)"
   ]
  },
  {
   "cell_type": "markdown",
   "metadata": {},
   "source": [
    "### we will use paraphrasing to augmented our dataset (only in misogynistic cases)"
   ]
  },
  {
   "cell_type": "code",
   "execution_count": 14,
   "metadata": {},
   "outputs": [
    {
     "name": "stderr",
     "output_type": "stream",
     "text": [
      "/home/havolli/venvs/modern_nlp/lib/python3.10/site-packages/transformers/generation/configuration_utils.py:492: UserWarning: `do_sample` is set to `False`. However, `temperature` is set to `0.7` -- this flag is only used in sample-based generation modes. You should set `do_sample=True` or unset `temperature`.\n",
      "  warnings.warn(\n"
     ]
    }
   ],
   "source": [
    "#data_dir = 'data'\n",
    "misogyny_path = os.path.join('/scratch/izar/havolli/misogynistic_data.jsonl')\n",
    "BATCH_SIZE = 8\n",
    "N_PARAPHRASE = 2\n",
    "\n",
    "paraphrase_dataset = get_paraphrase_dataset(paraphrase_model, paraphrase_tokenizer, device, misogyny_path, BATCH_SIZE, N_PARAPHRASE)"
   ]
  },
  {
   "cell_type": "code",
   "execution_count": 16,
   "metadata": {},
   "outputs": [
    {
     "data": {
      "text/plain": [
       "1398"
      ]
     },
     "execution_count": 16,
     "metadata": {},
     "output_type": "execute_result"
    }
   ],
   "source": [
    "len(paraphrase_dataset) #for each input misogynistic case (699 in total), we create 2 paraphrases --> 2*699=1398 "
   ]
  },
  {
   "cell_type": "code",
   "execution_count": 17,
   "metadata": {},
   "outputs": [],
   "source": [
    "#data_dir = 'data'\n",
    "paraphrased_data_train_path = os.path.join('/scratch/izar/havolli/paraphrased_misogyny_data.jsonl')\n",
    "with jsonlines.open(paraphrased_data_train_path, \"w\") as writer:\n",
    "    writer.write_all(paraphrase_dataset)"
   ]
  },
  {
   "cell_type": "code",
   "execution_count": 20,
   "metadata": {},
   "outputs": [],
   "source": [
    "# Original training dataset\n",
    "with jsonlines.open(misogyny_path, \"r\") as reader:\n",
    "    original_data = [dt for dt in reader.iter()]"
   ]
  },
  {
   "cell_type": "code",
   "execution_count": 21,
   "metadata": {},
   "outputs": [
    {
     "data": {
      "text/plain": [
       "699"
      ]
     },
     "execution_count": 21,
     "metadata": {},
     "output_type": "execute_result"
    }
   ],
   "source": [
    "len(original_data) #this is the original data for the misogynistic cases "
   ]
  },
  {
   "cell_type": "code",
   "execution_count": 22,
   "metadata": {},
   "outputs": [],
   "source": [
    "def write_to_jsonl(first_data, second_data, output_file_path):\n",
    "    combined_data = first_data + second_data\n",
    "    \n",
    "    #shuffle the data \n",
    "    random.shuffle(combined_data)\n",
    "    \n",
    "    #open a jsonlines file for writing\n",
    "    with jsonlines.open(output_file_path, mode='w') as writer:\n",
    "        #write the shuffled data\n",
    "        for entry in combined_data:\n",
    "            writer.write(entry)"
   ]
  },
  {
   "cell_type": "code",
   "execution_count": 23,
   "metadata": {},
   "outputs": [],
   "source": [
    "#this file will contain the augmented dataset for only misogynistic cases \n",
    "output_file_path = '/scratch/izar/havolli/augmented_misogynistic_data.jsonl'\n",
    "write_to_jsonl(original_data, paraphrase_dataset, output_file_path)"
   ]
  },
  {
   "cell_type": "code",
   "execution_count": 26,
   "metadata": {},
   "outputs": [],
   "source": [
    "#open misogynistic_augmented_data and non_misogynistic_data\n",
    "with jsonlines.open('/scratch/izar/havolli/augmented_misogynistic_data.jsonl', \"r\") as reader:\n",
    "    misogynistic_augmented_data = [dt for dt in reader.iter()]\n",
    "\n",
    "with jsonlines.open(non_miso_json, \"r\") as reader:\n",
    "    non_misogynistic_data = [dt for dt in reader.iter()]"
   ]
  },
  {
   "cell_type": "code",
   "execution_count": 27,
   "metadata": {},
   "outputs": [
    {
     "data": {
      "text/plain": [
       "(2097, 5868)"
      ]
     },
     "execution_count": 27,
     "metadata": {},
     "output_type": "execute_result"
    }
   ],
   "source": [
    "len(misogynistic_augmented_data), len(non_misogynistic_data)"
   ]
  },
  {
   "cell_type": "code",
   "execution_count": 30,
   "metadata": {},
   "outputs": [],
   "source": [
    "output_file_path = '/scratch/izar/havolli/augmented_data.jsonl'\n",
    "write_to_jsonl(misogynistic_augmented_data, non_misogynistic_data, output_file_path)"
   ]
  },
  {
   "cell_type": "code",
   "execution_count": 31,
   "metadata": {},
   "outputs": [
    {
     "data": {
      "text/plain": [
       "7965"
      ]
     },
     "execution_count": 31,
     "metadata": {},
     "output_type": "execute_result"
    }
   ],
   "source": [
    "output_file_path = '/scratch/izar/havolli/augmented_data.jsonl'\n",
    "with jsonlines.open(output_file_path, \"r\") as reader:\n",
    "    augmented_data = [dt for dt in reader.iter()]\n",
    "\n",
    "len(augmented_data)"
   ]
  },
  {
   "cell_type": "markdown",
   "metadata": {},
   "source": [
    "### finally create a validation set"
   ]
  },
  {
   "cell_type": "code",
   "execution_count": 32,
   "metadata": {},
   "outputs": [],
   "source": [
    "df = pd.read_json(output_file_path, lines=True)"
   ]
  },
  {
   "cell_type": "code",
   "execution_count": 33,
   "metadata": {},
   "outputs": [],
   "source": [
    "# Filter to get only the training rows\n",
    "train_df = df[df['split'] == 'train']\n",
    "\n",
    "# Sample 10% of the training dataset\n",
    "validation_set = train_df.sample(frac=0.1, random_state=42)  # random_state for reproducibility\n",
    "\n",
    "# Change 'split' to 'validation' for these sampled rows\n",
    "validation_set['split'] = 'dev'\n",
    "\n",
    "# Update the original DataFrame\n",
    "df.update(validation_set)"
   ]
  },
  {
   "cell_type": "code",
   "execution_count": 34,
   "metadata": {},
   "outputs": [
    {
     "data": {
      "text/plain": [
       "array(['train', 'test', 'dev'], dtype=object)"
      ]
     },
     "execution_count": 34,
     "metadata": {},
     "output_type": "execute_result"
    }
   ],
   "source": [
    "df['split'].unique()"
   ]
  },
  {
   "cell_type": "code",
   "execution_count": 36,
   "metadata": {},
   "outputs": [],
   "source": [
    "# Save the modified DataFrame back to a JSONL file\n",
    "df.to_json('/scratch/izar/havolli/augmented_data.jsonl', orient='records', lines=True)"
   ]
  },
  {
   "cell_type": "code",
   "execution_count": 37,
   "metadata": {},
   "outputs": [
    {
     "data": {
      "text/plain": [
       "(7965, 4)"
      ]
     },
     "execution_count": 37,
     "metadata": {},
     "output_type": "execute_result"
    }
   ],
   "source": [
    "df.shape"
   ]
  },
  {
   "cell_type": "markdown",
   "metadata": {},
   "source": [
    "## dataset sexism for pretraining "
   ]
  },
  {
   "cell_type": "code",
   "execution_count": 103,
   "metadata": {},
   "outputs": [
    {
     "data": {
      "text/html": [
       "<div>\n",
       "<style scoped>\n",
       "    .dataframe tbody tr th:only-of-type {\n",
       "        vertical-align: middle;\n",
       "    }\n",
       "\n",
       "    .dataframe tbody tr th {\n",
       "        vertical-align: top;\n",
       "    }\n",
       "\n",
       "    .dataframe thead th {\n",
       "        text-align: right;\n",
       "    }\n",
       "</style>\n",
       "<table border=\"1\" class=\"dataframe\">\n",
       "  <thead>\n",
       "    <tr style=\"text-align: right;\">\n",
       "      <th></th>\n",
       "      <th>rewire_id</th>\n",
       "      <th>text</th>\n",
       "      <th>label_sexist</th>\n",
       "      <th>label_category</th>\n",
       "      <th>label_vector</th>\n",
       "      <th>split</th>\n",
       "    </tr>\n",
       "  </thead>\n",
       "  <tbody>\n",
       "    <tr>\n",
       "      <th>0</th>\n",
       "      <td>sexism2022_english-9609</td>\n",
       "      <td>In Nigeria, if you rape a woman, the men rape ...</td>\n",
       "      <td>not sexist</td>\n",
       "      <td>none</td>\n",
       "      <td>none</td>\n",
       "      <td>dev</td>\n",
       "    </tr>\n",
       "    <tr>\n",
       "      <th>1</th>\n",
       "      <td>sexism2022_english-16993</td>\n",
       "      <td>Then, she's a keeper. 😉</td>\n",
       "      <td>not sexist</td>\n",
       "      <td>none</td>\n",
       "      <td>none</td>\n",
       "      <td>train</td>\n",
       "    </tr>\n",
       "    <tr>\n",
       "      <th>2</th>\n",
       "      <td>sexism2022_english-13149</td>\n",
       "      <td>This is like the Metallica video where the poo...</td>\n",
       "      <td>not sexist</td>\n",
       "      <td>none</td>\n",
       "      <td>none</td>\n",
       "      <td>train</td>\n",
       "    </tr>\n",
       "    <tr>\n",
       "      <th>3</th>\n",
       "      <td>sexism2022_english-13021</td>\n",
       "      <td>woman?</td>\n",
       "      <td>not sexist</td>\n",
       "      <td>none</td>\n",
       "      <td>none</td>\n",
       "      <td>train</td>\n",
       "    </tr>\n",
       "    <tr>\n",
       "      <th>4</th>\n",
       "      <td>sexism2022_english-966</td>\n",
       "      <td>I bet she wished she had a gun</td>\n",
       "      <td>not sexist</td>\n",
       "      <td>none</td>\n",
       "      <td>none</td>\n",
       "      <td>dev</td>\n",
       "    </tr>\n",
       "  </tbody>\n",
       "</table>\n",
       "</div>"
      ],
      "text/plain": [
       "                  rewire_id  \\\n",
       "0   sexism2022_english-9609   \n",
       "1  sexism2022_english-16993   \n",
       "2  sexism2022_english-13149   \n",
       "3  sexism2022_english-13021   \n",
       "4    sexism2022_english-966   \n",
       "\n",
       "                                                text label_sexist  \\\n",
       "0  In Nigeria, if you rape a woman, the men rape ...   not sexist   \n",
       "1                            Then, she's a keeper. 😉   not sexist   \n",
       "2  This is like the Metallica video where the poo...   not sexist   \n",
       "3                                             woman?   not sexist   \n",
       "4                     I bet she wished she had a gun   not sexist   \n",
       "\n",
       "  label_category label_vector  split  \n",
       "0           none         none    dev  \n",
       "1           none         none  train  \n",
       "2           none         none  train  \n",
       "3           none         none  train  \n",
       "4           none         none    dev  "
      ]
     },
     "execution_count": 103,
     "metadata": {},
     "output_type": "execute_result"
    }
   ],
   "source": [
    "df_sexism = pd.read_csv(path_sexism_dataset)\n",
    "\n",
    "df_sexism.head()"
   ]
  },
  {
   "cell_type": "code",
   "execution_count": 104,
   "metadata": {},
   "outputs": [
    {
     "data": {
      "text/plain": [
       "(20000, 6)"
      ]
     },
     "execution_count": 104,
     "metadata": {},
     "output_type": "execute_result"
    }
   ],
   "source": [
    "df_sexism.shape"
   ]
  },
  {
   "cell_type": "code",
   "execution_count": 109,
   "metadata": {},
   "outputs": [],
   "source": [
    "#preprocess steps \n",
    "df_sexism['text'] = df_sexism['text'].fillna('')\n",
    "df_sexism['text'] = df_sexism['text'].astype(str)"
   ]
  },
  {
   "cell_type": "code",
   "execution_count": 106,
   "metadata": {},
   "outputs": [
    {
     "data": {
      "text/plain": [
       "array(['dev', 'train', 'test'], dtype=object)"
      ]
     },
     "execution_count": 106,
     "metadata": {},
     "output_type": "execute_result"
    }
   ],
   "source": [
    "#unique values of df_sexism['split']\n",
    "df_sexism['split'].unique()"
   ]
  },
  {
   "cell_type": "code",
   "execution_count": 110,
   "metadata": {},
   "outputs": [],
   "source": [
    "df_filtered_sexism = df_sexism[['rewire_id', 'text', 'label_sexist', 'split']]\n",
    "filtered_sexism.columns = ['entry_id', 'text', 'label', 'split']"
   ]
  },
  {
   "cell_type": "code",
   "execution_count": 111,
   "metadata": {},
   "outputs": [],
   "source": [
    "sexism_jsonl = df_filtered_sexism.to_json(orient='records', lines=True)\n",
    "\n",
    "# Define the file path where you want to save the JSON data\n",
    "path_jsonl = 'sexism_data.jsonl'\n",
    "\n",
    "# Open a file at the specified path in write mode ('w')\n",
    "with open(path_jsonl, 'w') as file:\n",
    "    file.write(sexism_jsonl)"
   ]
  }
 ],
 "metadata": {
  "kernelspec": {
   "display_name": "Python 3 (ipykernel)",
   "language": "python",
   "name": "python3"
  },
  "language_info": {
   "codemirror_mode": {
    "name": "ipython",
    "version": 3
   },
   "file_extension": ".py",
   "mimetype": "text/x-python",
   "name": "python",
   "nbconvert_exporter": "python",
   "pygments_lexer": "ipython3",
   "version": "3.10.4"
  }
 },
 "nbformat": 4,
 "nbformat_minor": 4
}
